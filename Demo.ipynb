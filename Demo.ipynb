{
 "cells": [
  {
   "cell_type": "code",
   "execution_count": 2,
   "metadata": {
    "collapsed": true,
    "pycharm": {
     "is_executing": false
    }
   },
   "outputs": [],
   "source": [
    "import numpy as np\n",
    "import pandas as pd\n",
    "\n",
    "from IPython.core.interactiveshell import InteractiveShell\n",
    "InteractiveShell.ast_node_interactivity = \"all\" "
   ]
  },
  {
   "cell_type": "code",
   "execution_count": 3,
   "outputs": [],
   "source": [
    "df = pd.read_csv('data_demo.csv', encoding='utf-8')"
   ],
   "metadata": {
    "pycharm": {
     "metadata": false,
     "name": "#%%\n",
     "is_executing": false
    }
   }
  },
  {
   "cell_type": "code",
   "execution_count": 4,
   "outputs": [],
   "source": [
    "from sklearn.model_selection import train_test_split"
   ],
   "metadata": {
    "pycharm": {
     "metadata": false,
     "name": "#%%\n",
     "is_executing": false
    }
   }
  },
  {
   "cell_type": "code",
   "execution_count": 5,
   "outputs": [
    {
     "data": {
      "text/plain": "(14854, 949)"
     },
     "metadata": {},
     "output_type": "execute_result",
     "execution_count": 5
    },
    {
     "data": {
      "text/plain": "(6367, 949)"
     },
     "metadata": {},
     "output_type": "execute_result",
     "execution_count": 5
    }
   ],
   "source": [
    "train, test = train_test_split(df, test_size=0.3, random_state=1)\n",
    "train.shape\n",
    "test.shape"
   ],
   "metadata": {
    "pycharm": {
     "metadata": false,
     "name": "#%%\n",
     "is_executing": false
    }
   }
  },
  {
   "cell_type": "code",
   "execution_count": 6,
   "outputs": [],
   "source": [
    "from FinancialScorecard.preprocessing import feature_selection"
   ],
   "metadata": {
    "pycharm": {
     "metadata": false,
     "name": "#%%\n",
     "is_executing": false
    }
   }
  },
  {
   "cell_type": "code",
   "execution_count": 7,
   "outputs": [
    {
     "name": "stdout",
     "text": [
      "The features dropped by missing: []\nThe Number of Features Selected By Missing: 948\n"
     ],
     "output_type": "stream"
    }
   ],
   "source": [
    "train = feature_selection.missing_threshold(train, y_name='label')"
   ],
   "metadata": {
    "pycharm": {
     "metadata": false,
     "name": "#%%\n",
     "is_executing": false
    }
   }
  },
  {
   "cell_type": "code",
   "execution_count": 53,
   "outputs": [
    {
     "data": {
      "text/plain": "Index(['ZX_M24_24CC_CC_over_num_TB_征信24期信用卡近24月信用卡总张数',\n       'ZX_M24_24CC_con_overdue_num_TB_征信24期信用卡近24月连续逾期次数',\n       'ZX_M24_24CC_borrow_money_overdue_num_TB_征信24期信用卡近24月逾期卡张数',\n       'ZX_M24_24CC_acc_max_overdue_TB_征信24期信用卡近24月连续逾期期数最大值',\n       'ZX_M24_24CC_max_overdue_TS_TB_征信24期信用卡近24月逾期天数的最大值',\n       'ZX_M24_24CC_max_overdue_TS_3_loan_num_TB_征信24期信用卡近24月逾期天数最大值大于3天卡张数',\n       'ZX_M24_24CC_max_overdue_TS_7_loan_num_TB_征信24期信用卡近24月逾期天数最大值大于7天卡张数',\n       'ZX_M24_24CC_max_overdue_TS_15_loan_num_TB_征信24期信用卡近24月逾期天数最大值大于15天卡张数',\n       'ZX_M24_24CC_overdue_TS_15_month_num_TB_征信24期信用卡近24月逾期天数总和大于15天卡张数',\n       'ZX_M24_24CC_overdue_TS_3_month_num_TB_征信24期信用卡近24月逾期天数总和大于3天卡张数',\n       ...\n       'ZX_credit_cc_OD_BALAN_all_ratio_80_ratio_TB_征信贷记卡透支余额占授信额度大于0.8卡张数占信用卡张数比例',\n       'ZX_credit_cc_MAX_OD_BALAN_ratio_80_ratio_TB_征信贷记卡最大透支余额占授信额度大于0.8卡张数占信用卡张数比例',\n       'ZX_credit_cc_MAX_OD_BALAN_share_ratio_80_ratio_TB_征信贷记卡最大透支余额占共享额度大于0.8卡张数占信用卡张数比例',\n       'ZX_credit_cc_OD_BALAN_share_ratio_80_ratio_TB_征信贷记卡透支余额占共享额度大于0.8卡张数占信用卡张数比例',\n       'ZX_credit_cc_LAST_6_MON_AVER_AMT_max_ratio_80_ratio_TB_征信贷记卡最近6个月平均使用额度占最大透支余额大于0.8卡张数占信用卡张数比例',\n       'ZX_credit_cc_LAST_6_MON_AVER_AMT_ratio_80_ratio_TB_征信贷记卡最近6个月平均使用额度占授信额度大于0.8卡张数占信用卡张数比例',\n       'ZX_POSITION_TB_职位', 'ZX_JOB_TITL_TB_职称', 'age', 'label'],\n      dtype='object', length=949)"
     },
     "metadata": {},
     "output_type": "execute_result",
     "execution_count": 53
    },
    {
     "traceback": [
      "\u001b[1;31m---------------------------------------------------------------------------\u001b[0m",
      "\u001b[1;31mTypeError\u001b[0m                                 Traceback (most recent call last)",
      "\u001b[1;32m<ipython-input-53-7ad2f46f2d14>\u001b[0m in \u001b[0;36m<module>\u001b[1;34m\u001b[0m\n\u001b[0;32m      1\u001b[0m \u001b[0mtrain\u001b[0m\u001b[1;33m.\u001b[0m\u001b[0mcolumns\u001b[0m\u001b[1;33m\u001b[0m\u001b[1;33m\u001b[0m\u001b[0m\n\u001b[0;32m      2\u001b[0m \u001b[1;33m\u001b[0m\u001b[0m\n\u001b[1;32m----> 3\u001b[1;33m \u001b[0mtrain\u001b[0m \u001b[1;33m=\u001b[0m \u001b[0mFeatureSelection\u001b[0m\u001b[1;33m(\u001b[0m\u001b[1;33m)\u001b[0m\u001b[1;33m.\u001b[0m\u001b[0mmissing_threshold\u001b[0m\u001b[1;33m(\u001b[0m\u001b[0mtrain\u001b[0m\u001b[1;33m,\u001b[0m \u001b[0my_name\u001b[0m\u001b[1;33m=\u001b[0m\u001b[1;34m'label'\u001b[0m\u001b[1;33m)\u001b[0m\u001b[1;33m\u001b[0m\u001b[1;33m\u001b[0m\u001b[0m\n\u001b[0m",
      "\u001b[1;31mTypeError\u001b[0m: __init__() missing 1 required positional argument: 'data'"
     ],
     "ename": "TypeError",
     "evalue": "__init__() missing 1 required positional argument: 'data'",
     "output_type": "error"
    }
   ],
   "source": [
    "train.columns"
   ],
   "metadata": {
    "pycharm": {
     "metadata": false,
     "name": "#%%\n",
     "is_executing": false
    }
   }
  },
  {
   "cell_type": "code",
   "execution_count": 67,
   "outputs": [],
   "source": [
    "\n"
   ],
   "metadata": {
    "collapsed": false,
    "pycharm": {
     "name": "#%%\n",
     "is_executing": false
    }
   }
  }
 ],
 "metadata": {
  "language_info": {
   "codemirror_mode": {
    "name": "ipython",
    "version": 2
   },
   "file_extension": ".py",
   "mimetype": "text/x-python",
   "name": "python",
   "nbconvert_exporter": "python",
   "pygments_lexer": "ipython2",
   "version": "2.7.6"
  },
  "kernelspec": {
   "name": "python3",
   "language": "python",
   "display_name": "Python 3"
  },
  "pycharm": {
   "stem_cell": {
    "cell_type": "raw",
    "source": [],
    "metadata": {
     "collapsed": false
    }
   }
  }
 },
 "nbformat": 4,
 "nbformat_minor": 0
}